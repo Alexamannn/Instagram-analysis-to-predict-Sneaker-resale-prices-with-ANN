{
  "nbformat": 4,
  "nbformat_minor": 0,
  "metadata": {
    "colab": {
      "name": "Untitled10.ipynb",
      "provenance": [],
      "collapsed_sections": []
    },
    "kernelspec": {
      "name": "python3",
      "display_name": "Python 3"
    }
  },
  "cells": [
    {
      "cell_type": "code",
      "metadata": {
        "id": "2JqfFcTdj6kF",
        "colab_type": "code",
        "colab": {}
      },
      "source": [
        "import requests\n",
        "from bs4 import BeautifulSoup\n",
        "import pandas as pd\n",
        "import tweepy \n",
        "import nltk \n",
        "from google.cloud import language\n",
        "import pandas as pd\n",
        "from pandas.io.json import json_normalize\n"
      ],
      "execution_count": 1,
      "outputs": []
    },
    {
      "cell_type": "code",
      "metadata": {
        "id": "qfMZ6_ZJg5xN",
        "colab_type": "code",
        "colab": {}
      },
      "source": [
        "import urllib.request\n",
        "import pandas as pd\n",
        "import numpy as np\n",
        "import requests\n"
      ],
      "execution_count": 2,
      "outputs": []
    },
    {
      "cell_type": "markdown",
      "metadata": {
        "id": "k-ZEeXXNiVCf",
        "colab_type": "text"
      },
      "source": [
        "**X_Test Building,Use it after Data Training**"
      ]
    },
    {
      "cell_type": "code",
      "metadata": {
        "id": "DrV4NpV1nFNR",
        "colab_type": "code",
        "colab": {
          "base_uri": "https://localhost:8080/",
          "height": 34
        },
        "outputId": "28bee593-ce32-4b81-8e1a-f5f273a62c4c"
      },
      "source": [
        "Sneakerhashtags = input(\"Enter hashtags for first sneaker with , as seprator\")\n",
        "#remember I used input feature so we have more accuracy,s o use specific model hastags like yeezyazareth,azareth700,700azareth - do not use hashtags like yeezy700,yeezykanye700 because they are different models)"
      ],
      "execution_count": 9,
      "outputs": [
        {
          "output_type": "stream",
          "text": [
            "Enter hashtags for first sneaker with , as sepratornikedunklow,nikedunllowb,nikedunkbrown\n"
          ],
          "name": "stdout"
        }
      ]
    },
    {
      "cell_type": "code",
      "metadata": {
        "id": "U_8GmWutYOeS",
        "colab_type": "code",
        "colab": {
          "base_uri": "https://localhost:8080/",
          "height": 34
        },
        "outputId": "6bc2fd5b-6990-4984-8b0e-5942e7ffa319"
      },
      "source": [
        "releaseprice = input(\"Release price of sneaker in EUROS\")\n"
      ],
      "execution_count": 10,
      "outputs": [
        {
          "output_type": "stream",
          "text": [
            "Release price of sneaker in EUROS100\n"
          ],
          "name": "stdout"
        }
      ]
    },
    {
      "cell_type": "code",
      "metadata": {
        "id": "nU2Lo3Ijnn40",
        "colab_type": "code",
        "colab": {
          "base_uri": "https://localhost:8080/",
          "height": 68
        },
        "outputId": "0d78db22-d138-44b1-a2a2-45e73c464218"
      },
      "source": [
        "data=Sneakerhashtags.split(\",\")\n",
        "m=pd.DataFrame(data)\n",
        "m.values"
      ],
      "execution_count": 11,
      "outputs": [
        {
          "output_type": "execute_result",
          "data": {
            "text/plain": [
              "array([['nikedunklow'],\n",
              "       ['nikedunllowb'],\n",
              "       ['nikedunkbrown']], dtype=object)"
            ]
          },
          "metadata": {
            "tags": []
          },
          "execution_count": 11
        }
      ]
    },
    {
      "cell_type": "code",
      "metadata": {
        "id": "kgETyar7SdBg",
        "colab_type": "code",
        "colab": {}
      },
      "source": [
        "url='https://www.instagram.com/graphql/query/?query_hash=c769cb6c71b24c8a86590b22402fda50&variables=%7B%22tag_name%22%3A%22azareth%22%2C%22first%22%3A2%2C%22after%22%3A%22QVFCVDVxVUdMLWlnTlBaQjNtcUktUkR4M2dSUS1lSzkzdGVkSkUyMFB1aXRadkE1RzFINHdzTmprY1Yxd0ZnemZQSFJ5Q1hXMm9KZGdLeXJuLWRScXlqMA%3D%3D%22%7D'\n",
        "uf=pd.DataFrame(data)\n",
        "uf.columns=[\"hashtag\"]\n",
        "uf[\"url\"]= url\n",
        "uf\n",
        "uf['url'] = uf['hashtag'].apply(lambda x : url.replace('azareth',x.lower()))\n"
      ],
      "execution_count": 12,
      "outputs": []
    },
    {
      "cell_type": "code",
      "metadata": {
        "id": "VbJkLcEjTL9x",
        "colab_type": "code",
        "colab": {
          "base_uri": "https://localhost:8080/",
          "height": 34
        },
        "outputId": "9f18b36c-288d-49c5-fe94-32f2d793f806"
      },
      "source": [
        ""
      ],
      "execution_count": null,
      "outputs": [
        {
          "output_type": "stream",
          "text": [
            "41805\n"
          ],
          "name": "stdout"
        }
      ]
    },
    {
      "cell_type": "code",
      "metadata": {
        "id": "b_ruugUqhdBv",
        "colab_type": "code",
        "colab": {
          "base_uri": "https://localhost:8080/",
          "height": 142
        },
        "outputId": "dfdb6cbf-dc2b-4374-ac7a-3bfaef7494ff"
      },
      "source": [
        "uf['totalikes'] = uf['url'].apply(lambda x :(urllib.request.urlopen(x).read().decode('UTF-8').rfind(\"edge_media_preview_like\")))\n",
        "uf['totalcomments'] = uf['url'].apply(lambda x :(urllib.request.urlopen(x).read().decode('UTF-8').rfind(\"edge_media_to_comment\")))\n",
        "uf['totalposts'] = uf['url'].apply(lambda x :(urllib.request.urlopen(x).read().decode('UTF-8').rfind(\"edge_hashtag_to_media\")))\n",
        "uf['releaseprice']=releaseprice\n",
        "uf\n",
        "\n"
      ],
      "execution_count": 13,
      "outputs": [
        {
          "output_type": "execute_result",
          "data": {
            "text/html": [
              "<div>\n",
              "<style scoped>\n",
              "    .dataframe tbody tr th:only-of-type {\n",
              "        vertical-align: middle;\n",
              "    }\n",
              "\n",
              "    .dataframe tbody tr th {\n",
              "        vertical-align: top;\n",
              "    }\n",
              "\n",
              "    .dataframe thead th {\n",
              "        text-align: right;\n",
              "    }\n",
              "</style>\n",
              "<table border=\"1\" class=\"dataframe\">\n",
              "  <thead>\n",
              "    <tr style=\"text-align: right;\">\n",
              "      <th></th>\n",
              "      <th>hashtag</th>\n",
              "      <th>url</th>\n",
              "      <th>totalikes</th>\n",
              "      <th>totalcomments</th>\n",
              "      <th>totalposts</th>\n",
              "      <th>releaseprice</th>\n",
              "    </tr>\n",
              "  </thead>\n",
              "  <tbody>\n",
              "    <tr>\n",
              "      <th>0</th>\n",
              "      <td>nikedunklow</td>\n",
              "      <td>https://www.instagram.com/graphql/query/?query...</td>\n",
              "      <td>46249</td>\n",
              "      <td>45838</td>\n",
              "      <td>406</td>\n",
              "      <td>100</td>\n",
              "    </tr>\n",
              "    <tr>\n",
              "      <th>1</th>\n",
              "      <td>nikedunllowb</td>\n",
              "      <td>https://www.instagram.com/graphql/query/?query...</td>\n",
              "      <td>-1</td>\n",
              "      <td>-1</td>\n",
              "      <td>-1</td>\n",
              "      <td>100</td>\n",
              "    </tr>\n",
              "    <tr>\n",
              "      <th>2</th>\n",
              "      <td>nikedunkbrown</td>\n",
              "      <td>https://www.instagram.com/graphql/query/?query...</td>\n",
              "      <td>24805</td>\n",
              "      <td>24412</td>\n",
              "      <td>423</td>\n",
              "      <td>100</td>\n",
              "    </tr>\n",
              "  </tbody>\n",
              "</table>\n",
              "</div>"
            ],
            "text/plain": [
              "         hashtag  ... releaseprice\n",
              "0    nikedunklow  ...          100\n",
              "1   nikedunllowb  ...          100\n",
              "2  nikedunkbrown  ...          100\n",
              "\n",
              "[3 rows x 6 columns]"
            ]
          },
          "metadata": {
            "tags": []
          },
          "execution_count": 13
        }
      ]
    },
    {
      "cell_type": "code",
      "metadata": {
        "id": "6iIkB9UpYKDo",
        "colab_type": "code",
        "colab": {
          "base_uri": "https://localhost:8080/",
          "height": 34
        },
        "outputId": "3b0f5b09-49a0-4df9-8645-bcfa5233f2f0"
      },
      "source": [
        "x_test =(uf.totalikes.mean(),uf.totalcomments.mean(),uf.totalposts.mean(),uf.releaseprice[0])\n",
        "x_test = pd.DataFrame(x_test).T\n",
        "x_test=np.asarray(x_test,dtype=float)\n",
        "mk= model.predict(x_test)\n",
        "print(\"Maximum resale price\", mk ,\"Euros\")"
      ],
      "execution_count": 41,
      "outputs": [
        {
          "output_type": "stream",
          "text": [
            "Maximum resale price [[353.72513]] Euros\n"
          ],
          "name": "stdout"
        }
      ]
    },
    {
      "cell_type": "code",
      "metadata": {
        "id": "L5Lc8IWqf8KB",
        "colab_type": "code",
        "colab": {}
      },
      "source": [
        ""
      ],
      "execution_count": null,
      "outputs": []
    },
    {
      "cell_type": "markdown",
      "metadata": {
        "id": "bXX4l5vEexn-",
        "colab_type": "text"
      },
      "source": [
        "DATA TRAINING\n",
        "\n",
        "1- I took most recent photos from instgram for certain hashtags,so it reduces the possibility of having any oldmodel sneakers photos into the data,this validates,as \"HYPE\" or popularity of a certain sneaker is possibliy estimated from the most recent photos,so we can now which sneakers are in Talk and hot right now and have more resale values\n",
        "\n",
        "2- For any possiblity of Hashtags overlaps over photos ,(which is quite possible) I talk median counts of TOTAL LIKES/COMMENTS and POSTS to train data and to predict resale prices also\n",
        "\n",
        "3 to validate the model instead of splitting data to Traun or test we can simply put hashtags of recent release of a sneaker and compare our preictions with actual ongoing resale price"
      ]
    },
    {
      "cell_type": "code",
      "metadata": {
        "id": "-n2_VnEeEmTJ",
        "colab_type": "code",
        "colab": {}
      },
      "source": [
        "#yeezy700 azareth"
      ],
      "execution_count": null,
      "outputs": []
    },
    {
      "cell_type": "code",
      "metadata": {
        "id": "_TD7D8UCXkuK",
        "colab_type": "code",
        "colab": {
          "base_uri": "https://localhost:8080/",
          "height": 421
        },
        "outputId": "8b9d0477-7c96-499e-b589-dd4532ca7938"
      },
      "source": [
        "yeezyazareth = [\"azareth\",\"azareth700\",\"yeezy700blue\",\"700azareth\",\"yeezyazareth\",\"azarethkanye\",\"yeezybluev3\",\"2020yeezyv3\",\"v3yeezyazareth\",\"adidasyeezyazareth\",\"adidasazareth\",\"azarethkicks\"]\n",
        "url='https://www.instagram.com/graphql/query/?query_hash=c769cb6c71b24c8a86590b22402fda50&variables=%7B%22tag_name%22%3A%22azareth%22%2C%22first%22%3A2%2C%22after%22%3A%22QVFCVDVxVUdMLWlnTlBaQjNtcUktUkR4M2dSUS1lSzkzdGVkSkUyMFB1aXRadkE1RzFINHdzTmprY1Yxd0ZnemZQSFJ5Q1hXMm9KZGdLeXJuLWRScXlqMA%3D%3D%22%7D'\n",
        "yeezyazareth=pd.DataFrame(yeezyazareth)\n",
        "yeezyazareth.columns=[\"hashtag\"]\n",
        "yeezyazareth[\"url\"]= url\n",
        "yeezyazareth['url'] = yeezyazareth['hashtag'].apply(lambda x : url.replace('azareth',x.lower()))\n",
        "yeezyazareth['totalikes'] = yeezyazareth['url'].apply(lambda x :(urllib.request.urlopen(x).read().decode('UTF-8').rfind(\"edge_media_preview_like\")))\n",
        "yeezyazareth['totalcomments'] = yeezyazareth['url'].apply(lambda x :(urllib.request.urlopen(x).read().decode('UTF-8').rfind(\"edge_media_to_comment\")))\n",
        "yeezyazareth['totalposts'] = yeezyazareth['url'].apply(lambda x :(urllib.request.urlopen(x).read().decode('UTF-8').rfind(\"edge_hashtag_to_media\")))\n",
        "yeezyazareth['releaseprice']=200\n",
        "yeezyazareth\n"
      ],
      "execution_count": 15,
      "outputs": [
        {
          "output_type": "execute_result",
          "data": {
            "text/html": [
              "<div>\n",
              "<style scoped>\n",
              "    .dataframe tbody tr th:only-of-type {\n",
              "        vertical-align: middle;\n",
              "    }\n",
              "\n",
              "    .dataframe tbody tr th {\n",
              "        vertical-align: top;\n",
              "    }\n",
              "\n",
              "    .dataframe thead th {\n",
              "        text-align: right;\n",
              "    }\n",
              "</style>\n",
              "<table border=\"1\" class=\"dataframe\">\n",
              "  <thead>\n",
              "    <tr style=\"text-align: right;\">\n",
              "      <th></th>\n",
              "      <th>hashtag</th>\n",
              "      <th>url</th>\n",
              "      <th>totalikes</th>\n",
              "      <th>totalcomments</th>\n",
              "      <th>totalposts</th>\n",
              "      <th>releaseprice</th>\n",
              "    </tr>\n",
              "  </thead>\n",
              "  <tbody>\n",
              "    <tr>\n",
              "      <th>0</th>\n",
              "      <td>azareth</td>\n",
              "      <td>https://www.instagram.com/graphql/query/?query...</td>\n",
              "      <td>43969</td>\n",
              "      <td>43563</td>\n",
              "      <td>421</td>\n",
              "      <td>200</td>\n",
              "    </tr>\n",
              "    <tr>\n",
              "      <th>1</th>\n",
              "      <td>azareth700</td>\n",
              "      <td>https://www.instagram.com/graphql/query/?query...</td>\n",
              "      <td>-1</td>\n",
              "      <td>-1</td>\n",
              "      <td>256</td>\n",
              "      <td>200</td>\n",
              "    </tr>\n",
              "    <tr>\n",
              "      <th>2</th>\n",
              "      <td>yeezy700blue</td>\n",
              "      <td>https://www.instagram.com/graphql/query/?query...</td>\n",
              "      <td>42467</td>\n",
              "      <td>42063</td>\n",
              "      <td>422</td>\n",
              "      <td>200</td>\n",
              "    </tr>\n",
              "    <tr>\n",
              "      <th>3</th>\n",
              "      <td>700azareth</td>\n",
              "      <td>https://www.instagram.com/graphql/query/?query...</td>\n",
              "      <td>34143</td>\n",
              "      <td>33738</td>\n",
              "      <td>423</td>\n",
              "      <td>200</td>\n",
              "    </tr>\n",
              "    <tr>\n",
              "      <th>4</th>\n",
              "      <td>yeezyazareth</td>\n",
              "      <td>https://www.instagram.com/graphql/query/?query...</td>\n",
              "      <td>46513</td>\n",
              "      <td>46105</td>\n",
              "      <td>407</td>\n",
              "      <td>200</td>\n",
              "    </tr>\n",
              "    <tr>\n",
              "      <th>5</th>\n",
              "      <td>azarethkanye</td>\n",
              "      <td>https://www.instagram.com/graphql/query/?query...</td>\n",
              "      <td>-1</td>\n",
              "      <td>-1</td>\n",
              "      <td>-1</td>\n",
              "      <td>200</td>\n",
              "    </tr>\n",
              "    <tr>\n",
              "      <th>6</th>\n",
              "      <td>yeezybluev3</td>\n",
              "      <td>https://www.instagram.com/graphql/query/?query...</td>\n",
              "      <td>-1</td>\n",
              "      <td>-1</td>\n",
              "      <td>-1</td>\n",
              "      <td>200</td>\n",
              "    </tr>\n",
              "    <tr>\n",
              "      <th>7</th>\n",
              "      <td>2020yeezyv3</td>\n",
              "      <td>https://www.instagram.com/graphql/query/?query...</td>\n",
              "      <td>-1</td>\n",
              "      <td>-1</td>\n",
              "      <td>-1</td>\n",
              "      <td>200</td>\n",
              "    </tr>\n",
              "    <tr>\n",
              "      <th>8</th>\n",
              "      <td>v3yeezyazareth</td>\n",
              "      <td>https://www.instagram.com/graphql/query/?query...</td>\n",
              "      <td>-1</td>\n",
              "      <td>-1</td>\n",
              "      <td>-1</td>\n",
              "      <td>200</td>\n",
              "    </tr>\n",
              "    <tr>\n",
              "      <th>9</th>\n",
              "      <td>adidasyeezyazareth</td>\n",
              "      <td>https://www.instagram.com/graphql/query/?query...</td>\n",
              "      <td>1342</td>\n",
              "      <td>951</td>\n",
              "      <td>413</td>\n",
              "      <td>200</td>\n",
              "    </tr>\n",
              "    <tr>\n",
              "      <th>10</th>\n",
              "      <td>adidasazareth</td>\n",
              "      <td>https://www.instagram.com/graphql/query/?query...</td>\n",
              "      <td>-1</td>\n",
              "      <td>-1</td>\n",
              "      <td>259</td>\n",
              "      <td>200</td>\n",
              "    </tr>\n",
              "    <tr>\n",
              "      <th>11</th>\n",
              "      <td>azarethkicks</td>\n",
              "      <td>https://www.instagram.com/graphql/query/?query...</td>\n",
              "      <td>-1</td>\n",
              "      <td>-1</td>\n",
              "      <td>-1</td>\n",
              "      <td>200</td>\n",
              "    </tr>\n",
              "  </tbody>\n",
              "</table>\n",
              "</div>"
            ],
            "text/plain": [
              "               hashtag  ... releaseprice\n",
              "0              azareth  ...          200\n",
              "1           azareth700  ...          200\n",
              "2         yeezy700blue  ...          200\n",
              "3           700azareth  ...          200\n",
              "4         yeezyazareth  ...          200\n",
              "5         azarethkanye  ...          200\n",
              "6          yeezybluev3  ...          200\n",
              "7          2020yeezyv3  ...          200\n",
              "8       v3yeezyazareth  ...          200\n",
              "9   adidasyeezyazareth  ...          200\n",
              "10       adidasazareth  ...          200\n",
              "11        azarethkicks  ...          200\n",
              "\n",
              "[12 rows x 6 columns]"
            ]
          },
          "metadata": {
            "tags": []
          },
          "execution_count": 15
        }
      ]
    },
    {
      "cell_type": "code",
      "metadata": {
        "id": "3UqpqclCIHLm",
        "colab_type": "code",
        "colab": {
          "base_uri": "https://localhost:8080/",
          "height": 266
        },
        "outputId": "ef630670-b5b2-4143-d965-2e3b8e689fec"
      },
      "source": [
        "#airjordanfearless\n",
        "\n",
        "airjordanfearless = [\"airjordanfearless\",\"fearless\",\"jordanbluefearless\",\"fearlessjordan\",\"aj1fearless\",\"ajonefearless\",\"airjordanonefearless\"]\n",
        "url='https://www.instagram.com/graphql/query/?query_hash=c769cb6c71b24c8a86590b22402fda50&variables=%7B%22tag_name%22%3A%22azareth%22%2C%22first%22%3A2%2C%22after%22%3A%22QVFCVDVxVUdMLWlnTlBaQjNtcUktUkR4M2dSUS1lSzkzdGVkSkUyMFB1aXRadkE1RzFINHdzTmprY1Yxd0ZnemZQSFJ5Q1hXMm9KZGdLeXJuLWRScXlqMA%3D%3D%22%7D'\n",
        "airjordanfearless=pd.DataFrame(airjordanfearless)\n",
        "airjordanfearless.columns=[\"hashtag\"]\n",
        "airjordanfearless[\"url\"]= url\n",
        "airjordanfearless['url'] = airjordanfearless['hashtag'].apply(lambda x : url.replace('azareth',x.lower()))\n",
        "airjordanfearless['totalikes'] = airjordanfearless['url'].apply(lambda x :(urllib.request.urlopen(x).read().decode('UTF-8').rfind(\"edge_media_preview_like\")))\n",
        "airjordanfearless['totalcomments'] = airjordanfearless['url'].apply(lambda x :(urllib.request.urlopen(x).read().decode('UTF-8').rfind(\"edge_media_to_comment\")))\n",
        "airjordanfearless['totalposts'] = airjordanfearless['url'].apply(lambda x :(urllib.request.urlopen(x).read().decode('UTF-8').rfind(\"edge_hashtag_to_media\")))\n",
        "airjordanfearless['releaseprice'] = 160\n",
        "airjordanfearless\n"
      ],
      "execution_count": 16,
      "outputs": [
        {
          "output_type": "execute_result",
          "data": {
            "text/html": [
              "<div>\n",
              "<style scoped>\n",
              "    .dataframe tbody tr th:only-of-type {\n",
              "        vertical-align: middle;\n",
              "    }\n",
              "\n",
              "    .dataframe tbody tr th {\n",
              "        vertical-align: top;\n",
              "    }\n",
              "\n",
              "    .dataframe thead th {\n",
              "        text-align: right;\n",
              "    }\n",
              "</style>\n",
              "<table border=\"1\" class=\"dataframe\">\n",
              "  <thead>\n",
              "    <tr style=\"text-align: right;\">\n",
              "      <th></th>\n",
              "      <th>hashtag</th>\n",
              "      <th>url</th>\n",
              "      <th>totalikes</th>\n",
              "      <th>totalcomments</th>\n",
              "      <th>totalposts</th>\n",
              "      <th>releaseprice</th>\n",
              "    </tr>\n",
              "  </thead>\n",
              "  <tbody>\n",
              "    <tr>\n",
              "      <th>0</th>\n",
              "      <td>airjordanfearless</td>\n",
              "      <td>https://www.instagram.com/graphql/query/?query...</td>\n",
              "      <td>45831</td>\n",
              "      <td>45436</td>\n",
              "      <td>411</td>\n",
              "      <td>160</td>\n",
              "    </tr>\n",
              "    <tr>\n",
              "      <th>1</th>\n",
              "      <td>fearless</td>\n",
              "      <td>https://www.instagram.com/graphql/query/?query...</td>\n",
              "      <td>46887</td>\n",
              "      <td>46481</td>\n",
              "      <td>403</td>\n",
              "      <td>160</td>\n",
              "    </tr>\n",
              "    <tr>\n",
              "      <th>2</th>\n",
              "      <td>jordanbluefearless</td>\n",
              "      <td>https://www.instagram.com/graphql/query/?query...</td>\n",
              "      <td>-1</td>\n",
              "      <td>-1</td>\n",
              "      <td>-1</td>\n",
              "      <td>160</td>\n",
              "    </tr>\n",
              "    <tr>\n",
              "      <th>3</th>\n",
              "      <td>fearlessjordan</td>\n",
              "      <td>https://www.instagram.com/graphql/query/?query...</td>\n",
              "      <td>26563</td>\n",
              "      <td>26156</td>\n",
              "      <td>396</td>\n",
              "      <td>160</td>\n",
              "    </tr>\n",
              "    <tr>\n",
              "      <th>4</th>\n",
              "      <td>aj1fearless</td>\n",
              "      <td>https://www.instagram.com/graphql/query/?query...</td>\n",
              "      <td>47053</td>\n",
              "      <td>46646</td>\n",
              "      <td>405</td>\n",
              "      <td>160</td>\n",
              "    </tr>\n",
              "    <tr>\n",
              "      <th>5</th>\n",
              "      <td>ajonefearless</td>\n",
              "      <td>https://www.instagram.com/graphql/query/?query...</td>\n",
              "      <td>-1</td>\n",
              "      <td>-1</td>\n",
              "      <td>-1</td>\n",
              "      <td>160</td>\n",
              "    </tr>\n",
              "    <tr>\n",
              "      <th>6</th>\n",
              "      <td>airjordanonefearless</td>\n",
              "      <td>https://www.instagram.com/graphql/query/?query...</td>\n",
              "      <td>-1</td>\n",
              "      <td>-1</td>\n",
              "      <td>266</td>\n",
              "      <td>160</td>\n",
              "    </tr>\n",
              "  </tbody>\n",
              "</table>\n",
              "</div>"
            ],
            "text/plain": [
              "                hashtag  ... releaseprice\n",
              "0     airjordanfearless  ...          160\n",
              "1              fearless  ...          160\n",
              "2    jordanbluefearless  ...          160\n",
              "3        fearlessjordan  ...          160\n",
              "4           aj1fearless  ...          160\n",
              "5         ajonefearless  ...          160\n",
              "6  airjordanonefearless  ...          160\n",
              "\n",
              "[7 rows x 6 columns]"
            ]
          },
          "metadata": {
            "tags": []
          },
          "execution_count": 16
        }
      ]
    },
    {
      "cell_type": "code",
      "metadata": {
        "id": "CJRrg2mHK6E7",
        "colab_type": "code",
        "colab": {
          "base_uri": "https://localhost:8080/",
          "height": 328
        },
        "outputId": "88943c8e-b37b-43a0-ac73-48816f727b02"
      },
      "source": [
        "#sacainikeblazar\n",
        "\n",
        "sacainikeblazar = [\"nikesacai\",\"sacaiblazar\",\"nikesacaiblazar\",\"blazarsacaiyellow\",\"sacaiblazarnike\",\"nikexsacai\",\"sacaixnike\",\"sacaisneakers\",\"sacaishoes\"]\n",
        "url='https://www.instagram.com/graphql/query/?query_hash=c769cb6c71b24c8a86590b22402fda50&variables=%7B%22tag_name%22%3A%22azareth%22%2C%22first%22%3A2%2C%22after%22%3A%22QVFCVDVxVUdMLWlnTlBaQjNtcUktUkR4M2dSUS1lSzkzdGVkSkUyMFB1aXRadkE1RzFINHdzTmprY1Yxd0ZnemZQSFJ5Q1hXMm9KZGdLeXJuLWRScXlqMA%3D%3D%22%7D'\n",
        "sacainikeblazar=pd.DataFrame(sacainikeblazar)\n",
        "sacainikeblazar.columns= [\"hashtag\"]\n",
        "sacainikeblazar[\"url\"]= url\n",
        "sacainikeblazar['url'] = sacainikeblazar['hashtag'].apply(lambda x : url.replace('azareth',x.lower()))\n",
        "sacainikeblazar['totalikes'] = sacainikeblazar['url'].apply(lambda x :(urllib.request.urlopen(x).read().decode('UTF-8').rfind(\"edge_media_preview_like\")))\n",
        "sacainikeblazar['totalcomments'] = sacainikeblazar['url'].apply(lambda x :(urllib.request.urlopen(x).read().decode('UTF-8').rfind(\"edge_media_to_comment\")))\n",
        "sacainikeblazar['totalposts'] = sacainikeblazar['url'].apply(lambda x :(urllib.request.urlopen(x).read().decode('UTF-8').rfind(\"edge_hashtag_to_media\")))\n",
        "sacainikeblazar['releaseprice'] = 140\n",
        "sacainikeblazar"
      ],
      "execution_count": 17,
      "outputs": [
        {
          "output_type": "execute_result",
          "data": {
            "text/html": [
              "<div>\n",
              "<style scoped>\n",
              "    .dataframe tbody tr th:only-of-type {\n",
              "        vertical-align: middle;\n",
              "    }\n",
              "\n",
              "    .dataframe tbody tr th {\n",
              "        vertical-align: top;\n",
              "    }\n",
              "\n",
              "    .dataframe thead th {\n",
              "        text-align: right;\n",
              "    }\n",
              "</style>\n",
              "<table border=\"1\" class=\"dataframe\">\n",
              "  <thead>\n",
              "    <tr style=\"text-align: right;\">\n",
              "      <th></th>\n",
              "      <th>hashtag</th>\n",
              "      <th>url</th>\n",
              "      <th>totalikes</th>\n",
              "      <th>totalcomments</th>\n",
              "      <th>totalposts</th>\n",
              "      <th>releaseprice</th>\n",
              "    </tr>\n",
              "  </thead>\n",
              "  <tbody>\n",
              "    <tr>\n",
              "      <th>0</th>\n",
              "      <td>nikesacai</td>\n",
              "      <td>https://www.instagram.com/graphql/query/?query...</td>\n",
              "      <td>49720</td>\n",
              "      <td>49313</td>\n",
              "      <td>422</td>\n",
              "      <td>140</td>\n",
              "    </tr>\n",
              "    <tr>\n",
              "      <th>1</th>\n",
              "      <td>sacaiblazar</td>\n",
              "      <td>https://www.instagram.com/graphql/query/?query...</td>\n",
              "      <td>7015</td>\n",
              "      <td>6611</td>\n",
              "      <td>423</td>\n",
              "      <td>140</td>\n",
              "    </tr>\n",
              "    <tr>\n",
              "      <th>2</th>\n",
              "      <td>nikesacaiblazar</td>\n",
              "      <td>https://www.instagram.com/graphql/query/?query...</td>\n",
              "      <td>-1</td>\n",
              "      <td>-1</td>\n",
              "      <td>-1</td>\n",
              "      <td>140</td>\n",
              "    </tr>\n",
              "    <tr>\n",
              "      <th>3</th>\n",
              "      <td>blazarsacaiyellow</td>\n",
              "      <td>https://www.instagram.com/graphql/query/?query...</td>\n",
              "      <td>-1</td>\n",
              "      <td>-1</td>\n",
              "      <td>-1</td>\n",
              "      <td>140</td>\n",
              "    </tr>\n",
              "    <tr>\n",
              "      <th>4</th>\n",
              "      <td>sacaiblazarnike</td>\n",
              "      <td>https://www.instagram.com/graphql/query/?query...</td>\n",
              "      <td>-1</td>\n",
              "      <td>-1</td>\n",
              "      <td>-1</td>\n",
              "      <td>140</td>\n",
              "    </tr>\n",
              "    <tr>\n",
              "      <th>5</th>\n",
              "      <td>nikexsacai</td>\n",
              "      <td>https://www.instagram.com/graphql/query/?query...</td>\n",
              "      <td>47164</td>\n",
              "      <td>46757</td>\n",
              "      <td>423</td>\n",
              "      <td>140</td>\n",
              "    </tr>\n",
              "    <tr>\n",
              "      <th>6</th>\n",
              "      <td>sacaixnike</td>\n",
              "      <td>https://www.instagram.com/graphql/query/?query...</td>\n",
              "      <td>41086</td>\n",
              "      <td>40678</td>\n",
              "      <td>405</td>\n",
              "      <td>140</td>\n",
              "    </tr>\n",
              "    <tr>\n",
              "      <th>7</th>\n",
              "      <td>sacaisneakers</td>\n",
              "      <td>https://www.instagram.com/graphql/query/?query...</td>\n",
              "      <td>42098</td>\n",
              "      <td>41691</td>\n",
              "      <td>426</td>\n",
              "      <td>140</td>\n",
              "    </tr>\n",
              "    <tr>\n",
              "      <th>8</th>\n",
              "      <td>sacaishoes</td>\n",
              "      <td>https://www.instagram.com/graphql/query/?query...</td>\n",
              "      <td>43018</td>\n",
              "      <td>42612</td>\n",
              "      <td>405</td>\n",
              "      <td>140</td>\n",
              "    </tr>\n",
              "  </tbody>\n",
              "</table>\n",
              "</div>"
            ],
            "text/plain": [
              "             hashtag  ... releaseprice\n",
              "0          nikesacai  ...          140\n",
              "1        sacaiblazar  ...          140\n",
              "2    nikesacaiblazar  ...          140\n",
              "3  blazarsacaiyellow  ...          140\n",
              "4    sacaiblazarnike  ...          140\n",
              "5         nikexsacai  ...          140\n",
              "6         sacaixnike  ...          140\n",
              "7      sacaisneakers  ...          140\n",
              "8         sacaishoes  ...          140\n",
              "\n",
              "[9 rows x 6 columns]"
            ]
          },
          "metadata": {
            "tags": []
          },
          "execution_count": 17
        }
      ]
    },
    {
      "cell_type": "code",
      "metadata": {
        "id": "WZXUD02yL9RK",
        "colab_type": "code",
        "colab": {
          "base_uri": "https://localhost:8080/",
          "height": 173
        },
        "outputId": "39d2112e-665d-4602-b8b1-2e654c32db66"
      },
      "source": [
        "#pumaralphsamson\n",
        "\n",
        "\n",
        "pumaralphsamson = [\"pumaralphsamsonog\",\"samsonralphogsneakers\",\"pumaralphsam\",\"pumaog\"]\n",
        "url='https://www.instagram.com/graphql/query/?query_hash=c769cb6c71b24c8a86590b22402fda50&variables=%7B%22tag_name%22%3A%22azareth%22%2C%22first%22%3A2%2C%22after%22%3A%22QVFCVDVxVUdMLWlnTlBaQjNtcUktUkR4M2dSUS1lSzkzdGVkSkUyMFB1aXRadkE1RzFINHdzTmprY1Yxd0ZnemZQSFJ5Q1hXMm9KZGdLeXJuLWRScXlqMA%3D%3D%22%7D'\n",
        "pumaralphsamson=pd.DataFrame(pumaralphsamson)\n",
        "pumaralphsamson.columns= [\"hashtag\"]\n",
        "pumaralphsamson[\"url\"]= url\n",
        "pumaralphsamson['url'] = pumaralphsamson['hashtag'].apply(lambda x : url.replace('azareth',x.lower()))\n",
        "pumaralphsamson['totalikes'] = pumaralphsamson['url'].apply(lambda x :(urllib.request.urlopen(x).read().decode('UTF-8').rfind(\"edge_media_preview_like\")))\n",
        "pumaralphsamson['totalcomments'] = pumaralphsamson['url'].apply(lambda x :(urllib.request.urlopen(x).read().decode('UTF-8').rfind(\"edge_media_to_comment\")))\n",
        "pumaralphsamson['totalposts'] = pumaralphsamson['url'].apply(lambda x :(urllib.request.urlopen(x).read().decode('UTF-8').rfind(\"edge_hashtag_to_media\")))\n",
        "pumaralphsamson['releaseprice'] = 80\n",
        "pumaralphsamson\n"
      ],
      "execution_count": 18,
      "outputs": [
        {
          "output_type": "execute_result",
          "data": {
            "text/html": [
              "<div>\n",
              "<style scoped>\n",
              "    .dataframe tbody tr th:only-of-type {\n",
              "        vertical-align: middle;\n",
              "    }\n",
              "\n",
              "    .dataframe tbody tr th {\n",
              "        vertical-align: top;\n",
              "    }\n",
              "\n",
              "    .dataframe thead th {\n",
              "        text-align: right;\n",
              "    }\n",
              "</style>\n",
              "<table border=\"1\" class=\"dataframe\">\n",
              "  <thead>\n",
              "    <tr style=\"text-align: right;\">\n",
              "      <th></th>\n",
              "      <th>hashtag</th>\n",
              "      <th>url</th>\n",
              "      <th>totalikes</th>\n",
              "      <th>totalcomments</th>\n",
              "      <th>totalposts</th>\n",
              "      <th>releaseprice</th>\n",
              "    </tr>\n",
              "  </thead>\n",
              "  <tbody>\n",
              "    <tr>\n",
              "      <th>0</th>\n",
              "      <td>pumaralphsamsonog</td>\n",
              "      <td>https://www.instagram.com/graphql/query/?query...</td>\n",
              "      <td>-1</td>\n",
              "      <td>-1</td>\n",
              "      <td>-1</td>\n",
              "      <td>80</td>\n",
              "    </tr>\n",
              "    <tr>\n",
              "      <th>1</th>\n",
              "      <td>samsonralphogsneakers</td>\n",
              "      <td>https://www.instagram.com/graphql/query/?query...</td>\n",
              "      <td>-1</td>\n",
              "      <td>-1</td>\n",
              "      <td>-1</td>\n",
              "      <td>80</td>\n",
              "    </tr>\n",
              "    <tr>\n",
              "      <th>2</th>\n",
              "      <td>pumaralphsam</td>\n",
              "      <td>https://www.instagram.com/graphql/query/?query...</td>\n",
              "      <td>-1</td>\n",
              "      <td>-1</td>\n",
              "      <td>258</td>\n",
              "      <td>80</td>\n",
              "    </tr>\n",
              "    <tr>\n",
              "      <th>3</th>\n",
              "      <td>pumaog</td>\n",
              "      <td>https://www.instagram.com/graphql/query/?query...</td>\n",
              "      <td>42968</td>\n",
              "      <td>42576</td>\n",
              "      <td>418</td>\n",
              "      <td>80</td>\n",
              "    </tr>\n",
              "  </tbody>\n",
              "</table>\n",
              "</div>"
            ],
            "text/plain": [
              "                 hashtag  ... releaseprice\n",
              "0      pumaralphsamsonog  ...           80\n",
              "1  samsonralphogsneakers  ...           80\n",
              "2           pumaralphsam  ...           80\n",
              "3                 pumaog  ...           80\n",
              "\n",
              "[4 rows x 6 columns]"
            ]
          },
          "metadata": {
            "tags": []
          },
          "execution_count": 18
        }
      ]
    },
    {
      "cell_type": "code",
      "metadata": {
        "id": "isfnBzumNcu-",
        "colab_type": "code",
        "colab": {
          "base_uri": "https://localhost:8080/",
          "height": 266
        },
        "outputId": "5de1dacb-4653-47a4-9777-d972a8364723"
      },
      "source": [
        "#NIKE SB DUNK X CIVILIST\n",
        "\n",
        "nikedunkcivilist = [\"nikecivilist\",\"nikedunksb\",\"nikesbdunk\",\"nikecivilist\",\"sbdunk\",\"dunknikecivilist\",\"civilistnike\"]\n",
        "url='https://www.instagram.com/graphql/query/?query_hash=c769cb6c71b24c8a86590b22402fda50&variables=%7B%22tag_name%22%3A%22azareth%22%2C%22first%22%3A2%2C%22after%22%3A%22QVFCVDVxVUdMLWlnTlBaQjNtcUktUkR4M2dSUS1lSzkzdGVkSkUyMFB1aXRadkE1RzFINHdzTmprY1Yxd0ZnemZQSFJ5Q1hXMm9KZGdLeXJuLWRScXlqMA%3D%3D%22%7D'\n",
        "nikedunkcivilist=pd.DataFrame(nikedunkcivilist)\n",
        "nikedunkcivilist.columns= [\"hashtag\"]\n",
        "nikedunkcivilist[\"url\"]= url\n",
        "nikedunkcivilist['url'] = nikedunkcivilist['hashtag'].apply(lambda x : url.replace('azareth',x.lower()))\n",
        "nikedunkcivilist['totalikes'] = nikedunkcivilist['url'].apply(lambda x :(urllib.request.urlopen(x).read().decode('UTF-8').rfind(\"edge_media_preview_like\")))\n",
        "nikedunkcivilist['totalcomments'] = nikedunkcivilist['url'].apply(lambda x :(urllib.request.urlopen(x).read().decode('UTF-8').rfind(\"edge_media_to_comment\")))\n",
        "nikedunkcivilist['totalposts'] = nikedunkcivilist['url'].apply(lambda x :(urllib.request.urlopen(x).read().decode('UTF-8').rfind(\"edge_hashtag_to_media\")))\n",
        "nikedunkcivilist['releaseprice'] = 100\n",
        "nikedunkcivilist\n"
      ],
      "execution_count": 19,
      "outputs": [
        {
          "output_type": "execute_result",
          "data": {
            "text/html": [
              "<div>\n",
              "<style scoped>\n",
              "    .dataframe tbody tr th:only-of-type {\n",
              "        vertical-align: middle;\n",
              "    }\n",
              "\n",
              "    .dataframe tbody tr th {\n",
              "        vertical-align: top;\n",
              "    }\n",
              "\n",
              "    .dataframe thead th {\n",
              "        text-align: right;\n",
              "    }\n",
              "</style>\n",
              "<table border=\"1\" class=\"dataframe\">\n",
              "  <thead>\n",
              "    <tr style=\"text-align: right;\">\n",
              "      <th></th>\n",
              "      <th>hashtag</th>\n",
              "      <th>url</th>\n",
              "      <th>totalikes</th>\n",
              "      <th>totalcomments</th>\n",
              "      <th>totalposts</th>\n",
              "      <th>releaseprice</th>\n",
              "    </tr>\n",
              "  </thead>\n",
              "  <tbody>\n",
              "    <tr>\n",
              "      <th>0</th>\n",
              "      <td>nikecivilist</td>\n",
              "      <td>https://www.instagram.com/graphql/query/?query...</td>\n",
              "      <td>47496</td>\n",
              "      <td>47090</td>\n",
              "      <td>398</td>\n",
              "      <td>100</td>\n",
              "    </tr>\n",
              "    <tr>\n",
              "      <th>1</th>\n",
              "      <td>nikedunksb</td>\n",
              "      <td>https://www.instagram.com/graphql/query/?query...</td>\n",
              "      <td>44220</td>\n",
              "      <td>43810</td>\n",
              "      <td>405</td>\n",
              "      <td>100</td>\n",
              "    </tr>\n",
              "    <tr>\n",
              "      <th>2</th>\n",
              "      <td>nikesbdunk</td>\n",
              "      <td>https://www.instagram.com/graphql/query/?query...</td>\n",
              "      <td>48143</td>\n",
              "      <td>47745</td>\n",
              "      <td>405</td>\n",
              "      <td>100</td>\n",
              "    </tr>\n",
              "    <tr>\n",
              "      <th>3</th>\n",
              "      <td>nikecivilist</td>\n",
              "      <td>https://www.instagram.com/graphql/query/?query...</td>\n",
              "      <td>47496</td>\n",
              "      <td>47090</td>\n",
              "      <td>398</td>\n",
              "      <td>100</td>\n",
              "    </tr>\n",
              "    <tr>\n",
              "      <th>4</th>\n",
              "      <td>sbdunk</td>\n",
              "      <td>https://www.instagram.com/graphql/query/?query...</td>\n",
              "      <td>43931</td>\n",
              "      <td>43523</td>\n",
              "      <td>401</td>\n",
              "      <td>100</td>\n",
              "    </tr>\n",
              "    <tr>\n",
              "      <th>5</th>\n",
              "      <td>dunknikecivilist</td>\n",
              "      <td>https://www.instagram.com/graphql/query/?query...</td>\n",
              "      <td>-1</td>\n",
              "      <td>-1</td>\n",
              "      <td>-1</td>\n",
              "      <td>100</td>\n",
              "    </tr>\n",
              "    <tr>\n",
              "      <th>6</th>\n",
              "      <td>civilistnike</td>\n",
              "      <td>https://www.instagram.com/graphql/query/?query...</td>\n",
              "      <td>55465</td>\n",
              "      <td>55074</td>\n",
              "      <td>406</td>\n",
              "      <td>100</td>\n",
              "    </tr>\n",
              "  </tbody>\n",
              "</table>\n",
              "</div>"
            ],
            "text/plain": [
              "            hashtag  ... releaseprice\n",
              "0      nikecivilist  ...          100\n",
              "1        nikedunksb  ...          100\n",
              "2        nikesbdunk  ...          100\n",
              "3      nikecivilist  ...          100\n",
              "4            sbdunk  ...          100\n",
              "5  dunknikecivilist  ...          100\n",
              "6      civilistnike  ...          100\n",
              "\n",
              "[7 rows x 6 columns]"
            ]
          },
          "metadata": {
            "tags": []
          },
          "execution_count": 19
        }
      ]
    },
    {
      "cell_type": "code",
      "metadata": {
        "id": "9Bar1nVBPjfE",
        "colab_type": "code",
        "colab": {
          "base_uri": "https://localhost:8080/",
          "height": 235
        },
        "outputId": "c61fabb2-5b95-4319-ba70-8f317c30e355"
      },
      "source": [
        "#NIKE SPACE HIPPIE COLLECTION,\n",
        "\n",
        "nikespacehippie = [\"nikespacesneakers\",\"nikespace\",\"nikehippie\",\"nikehippie\",\"nikehippiegrey\",\"spacenike\"]\n",
        "url='https://www.instagram.com/graphql/query/?query_hash=c769cb6c71b24c8a86590b22402fda50&variables=%7B%22tag_name%22%3A%22azareth%22%2C%22first%22%3A2%2C%22after%22%3A%22QVFCVDVxVUdMLWlnTlBaQjNtcUktUkR4M2dSUS1lSzkzdGVkSkUyMFB1aXRadkE1RzFINHdzTmprY1Yxd0ZnemZQSFJ5Q1hXMm9KZGdLeXJuLWRScXlqMA%3D%3D%22%7D'\n",
        "nikespacehippie=pd.DataFrame(nikespacehippie)\n",
        "nikespacehippie.columns= [\"hashtag\"]\n",
        "nikespacehippie[\"url\"]= url\n",
        "nikespacehippie['url'] = nikespacehippie['hashtag'].apply(lambda x : url.replace('azareth',x.lower()))\n",
        "nikespacehippie['totalikes'] = nikespacehippie['url'].apply(lambda x :(urllib.request.urlopen(x).read().decode('UTF-8').rfind(\"edge_media_preview_like\")))\n",
        "nikespacehippie['totalcomments'] = nikespacehippie['url'].apply(lambda x :(urllib.request.urlopen(x).read().decode('UTF-8').rfind(\"edge_media_to_comment\")))\n",
        "nikespacehippie['totalposts'] = nikespacehippie['url'].apply(lambda x :(urllib.request.urlopen(x).read().decode('UTF-8').rfind(\"edge_hashtag_to_media\")))\n",
        "nikespacehippie['releaseprice'] = 130\n",
        "nikespacehippie"
      ],
      "execution_count": 20,
      "outputs": [
        {
          "output_type": "execute_result",
          "data": {
            "text/html": [
              "<div>\n",
              "<style scoped>\n",
              "    .dataframe tbody tr th:only-of-type {\n",
              "        vertical-align: middle;\n",
              "    }\n",
              "\n",
              "    .dataframe tbody tr th {\n",
              "        vertical-align: top;\n",
              "    }\n",
              "\n",
              "    .dataframe thead th {\n",
              "        text-align: right;\n",
              "    }\n",
              "</style>\n",
              "<table border=\"1\" class=\"dataframe\">\n",
              "  <thead>\n",
              "    <tr style=\"text-align: right;\">\n",
              "      <th></th>\n",
              "      <th>hashtag</th>\n",
              "      <th>url</th>\n",
              "      <th>totalikes</th>\n",
              "      <th>totalcomments</th>\n",
              "      <th>totalposts</th>\n",
              "      <th>releaseprice</th>\n",
              "    </tr>\n",
              "  </thead>\n",
              "  <tbody>\n",
              "    <tr>\n",
              "      <th>0</th>\n",
              "      <td>nikespacesneakers</td>\n",
              "      <td>https://www.instagram.com/graphql/query/?query...</td>\n",
              "      <td>-1</td>\n",
              "      <td>-1</td>\n",
              "      <td>-1</td>\n",
              "      <td>130</td>\n",
              "    </tr>\n",
              "    <tr>\n",
              "      <th>1</th>\n",
              "      <td>nikespace</td>\n",
              "      <td>https://www.instagram.com/graphql/query/?query...</td>\n",
              "      <td>44745</td>\n",
              "      <td>44350</td>\n",
              "      <td>393</td>\n",
              "      <td>130</td>\n",
              "    </tr>\n",
              "    <tr>\n",
              "      <th>2</th>\n",
              "      <td>nikehippie</td>\n",
              "      <td>https://www.instagram.com/graphql/query/?query...</td>\n",
              "      <td>49261</td>\n",
              "      <td>48866</td>\n",
              "      <td>424</td>\n",
              "      <td>130</td>\n",
              "    </tr>\n",
              "    <tr>\n",
              "      <th>3</th>\n",
              "      <td>nikehippie</td>\n",
              "      <td>https://www.instagram.com/graphql/query/?query...</td>\n",
              "      <td>49261</td>\n",
              "      <td>48866</td>\n",
              "      <td>424</td>\n",
              "      <td>130</td>\n",
              "    </tr>\n",
              "    <tr>\n",
              "      <th>4</th>\n",
              "      <td>nikehippiegrey</td>\n",
              "      <td>https://www.instagram.com/graphql/query/?query...</td>\n",
              "      <td>17247</td>\n",
              "      <td>16843</td>\n",
              "      <td>408</td>\n",
              "      <td>130</td>\n",
              "    </tr>\n",
              "    <tr>\n",
              "      <th>5</th>\n",
              "      <td>spacenike</td>\n",
              "      <td>https://www.instagram.com/graphql/query/?query...</td>\n",
              "      <td>32042</td>\n",
              "      <td>31635</td>\n",
              "      <td>393</td>\n",
              "      <td>130</td>\n",
              "    </tr>\n",
              "  </tbody>\n",
              "</table>\n",
              "</div>"
            ],
            "text/plain": [
              "             hashtag  ... releaseprice\n",
              "0  nikespacesneakers  ...          130\n",
              "1          nikespace  ...          130\n",
              "2         nikehippie  ...          130\n",
              "3         nikehippie  ...          130\n",
              "4     nikehippiegrey  ...          130\n",
              "5          spacenike  ...          130\n",
              "\n",
              "[6 rows x 6 columns]"
            ]
          },
          "metadata": {
            "tags": []
          },
          "execution_count": 20
        }
      ]
    },
    {
      "cell_type": "code",
      "metadata": {
        "id": "Y1et5ohiQT77",
        "colab_type": "code",
        "colab": {
          "base_uri": "https://localhost:8080/",
          "height": 235
        },
        "outputId": "152bbea4-83e4-48cd-eca3-e925d0298b03"
      },
      "source": [
        "#training with prices of size 43 (most in demand)\n",
        "\n",
        "import pandas as pd\n",
        "\n",
        "traindata = {'name':  ['yeezyazareth','airjordanfearless','sacainikeblazar' ,'pumaralphsamson' ,'nikedunkcivilist' ,'nikespacehippie'],\n",
        "        'likes': [yeezyazareth.totalikes.mean(),airjordanfearless.totalikes.mean(),sacainikeblazar.totalikes.mean(),pumaralphsamson.totalikes.mean(),nikedunkcivilist.totalikes.mean(),nikespacehippie.totalikes.mean()],\n",
        "        'comment': [yeezyazareth.totalcomments.mean(),airjordanfearless.totalcomments.mean(),sacainikeblazar.totalcomments.mean(),pumaralphsamson.totalcomments.mean(),nikedunkcivilist.totalcomments.mean(),nikespacehippie.totalcomments.mean()],\n",
        "        'post': [yeezyazareth.totalposts.mean(),airjordanfearless.totalposts.mean(),sacainikeblazar.totalposts.mean(),pumaralphsamson.totalposts.mean(),nikedunkcivilist.totalposts.mean(),nikespacehippie.totalposts.mean()],\n",
        "        'releaseprice': [yeezyazareth.releaseprice[1],airjordanfearless.releaseprice[1],sacainikeblazar.releaseprice[1],pumaralphsamson.releaseprice[1],nikedunkcivilist.releaseprice[1],nikespacehippie.releaseprice[1]],\n",
        "        'maxresaleprice': [361,333,298,115,1000,330],\n",
        "        'popular':[1,1,1,0,2,1]\n",
        "        }\n",
        "\n",
        "df = pd.DataFrame (traindata, columns = ['name','likes','comment','post','releaseprice','maxresaleprice','popular'])\n",
        "df"
      ],
      "execution_count": 21,
      "outputs": [
        {
          "output_type": "execute_result",
          "data": {
            "text/html": [
              "<div>\n",
              "<style scoped>\n",
              "    .dataframe tbody tr th:only-of-type {\n",
              "        vertical-align: middle;\n",
              "    }\n",
              "\n",
              "    .dataframe tbody tr th {\n",
              "        vertical-align: top;\n",
              "    }\n",
              "\n",
              "    .dataframe thead th {\n",
              "        text-align: right;\n",
              "    }\n",
              "</style>\n",
              "<table border=\"1\" class=\"dataframe\">\n",
              "  <thead>\n",
              "    <tr style=\"text-align: right;\">\n",
              "      <th></th>\n",
              "      <th>name</th>\n",
              "      <th>likes</th>\n",
              "      <th>comment</th>\n",
              "      <th>post</th>\n",
              "      <th>releaseprice</th>\n",
              "      <th>maxresaleprice</th>\n",
              "      <th>popular</th>\n",
              "    </tr>\n",
              "  </thead>\n",
              "  <tbody>\n",
              "    <tr>\n",
              "      <th>0</th>\n",
              "      <td>yeezyazareth</td>\n",
              "      <td>14035.583333</td>\n",
              "      <td>13867.750000</td>\n",
              "      <td>216.333333</td>\n",
              "      <td>200</td>\n",
              "      <td>361</td>\n",
              "      <td>1</td>\n",
              "    </tr>\n",
              "    <tr>\n",
              "      <th>1</th>\n",
              "      <td>airjordanfearless</td>\n",
              "      <td>23761.571429</td>\n",
              "      <td>23530.857143</td>\n",
              "      <td>268.428571</td>\n",
              "      <td>160</td>\n",
              "      <td>333</td>\n",
              "      <td>1</td>\n",
              "    </tr>\n",
              "    <tr>\n",
              "      <th>2</th>\n",
              "      <td>sacainikeblazar</td>\n",
              "      <td>25566.444444</td>\n",
              "      <td>25295.444444</td>\n",
              "      <td>277.888889</td>\n",
              "      <td>140</td>\n",
              "      <td>298</td>\n",
              "      <td>1</td>\n",
              "    </tr>\n",
              "    <tr>\n",
              "      <th>3</th>\n",
              "      <td>pumaralphsamson</td>\n",
              "      <td>10741.250000</td>\n",
              "      <td>10643.250000</td>\n",
              "      <td>168.500000</td>\n",
              "      <td>80</td>\n",
              "      <td>115</td>\n",
              "      <td>0</td>\n",
              "    </tr>\n",
              "    <tr>\n",
              "      <th>4</th>\n",
              "      <td>nikedunkcivilist</td>\n",
              "      <td>40964.285714</td>\n",
              "      <td>40618.714286</td>\n",
              "      <td>344.571429</td>\n",
              "      <td>100</td>\n",
              "      <td>1000</td>\n",
              "      <td>2</td>\n",
              "    </tr>\n",
              "    <tr>\n",
              "      <th>5</th>\n",
              "      <td>nikespacehippie</td>\n",
              "      <td>32092.500000</td>\n",
              "      <td>31759.833333</td>\n",
              "      <td>340.166667</td>\n",
              "      <td>130</td>\n",
              "      <td>330</td>\n",
              "      <td>1</td>\n",
              "    </tr>\n",
              "  </tbody>\n",
              "</table>\n",
              "</div>"
            ],
            "text/plain": [
              "                name         likes  ...  maxresaleprice  popular\n",
              "0       yeezyazareth  14035.583333  ...             361        1\n",
              "1  airjordanfearless  23761.571429  ...             333        1\n",
              "2    sacainikeblazar  25566.444444  ...             298        1\n",
              "3    pumaralphsamson  10741.250000  ...             115        0\n",
              "4   nikedunkcivilist  40964.285714  ...            1000        2\n",
              "5    nikespacehippie  32092.500000  ...             330        1\n",
              "\n",
              "[6 rows x 7 columns]"
            ]
          },
          "metadata": {
            "tags": []
          },
          "execution_count": 21
        }
      ]
    },
    {
      "cell_type": "code",
      "metadata": {
        "id": "2jX2EdVFWAkx",
        "colab_type": "code",
        "colab": {
          "base_uri": "https://localhost:8080/",
          "height": 34
        },
        "outputId": "7a4c9864-cde5-4e83-d4e3-eacd4150bec4"
      },
      "source": [
        "x = df[[\"likes\",\"comment\",\"post\",\"releaseprice\"]]\n",
        "x=np.asarray(x)\n",
        "y=np.asarray(df.maxresaleprice)\n",
        "y"
      ],
      "execution_count": 29,
      "outputs": [
        {
          "output_type": "execute_result",
          "data": {
            "text/plain": [
              "array([ 361,  333,  298,  115, 1000,  330])"
            ]
          },
          "metadata": {
            "tags": []
          },
          "execution_count": 29
        }
      ]
    },
    {
      "cell_type": "code",
      "metadata": {
        "id": "NWmDsXB_SUeK",
        "colab_type": "code",
        "colab": {}
      },
      "source": [
        "\n",
        "\n",
        "\n"
      ],
      "execution_count": null,
      "outputs": []
    },
    {
      "cell_type": "code",
      "metadata": {
        "id": "2NbuC8u3dZZu",
        "colab_type": "code",
        "colab": {
          "base_uri": "https://localhost:8080/",
          "height": 1000
        },
        "outputId": "5d428ac8-44b7-46c5-e833-9ca80425c216"
      },
      "source": [
        "from keras.models import Model\n",
        "from keras.layers import Input\n",
        "from keras.layers import Dense\n",
        "from keras.models import Sequential\n",
        "from keras.layers import LeakyReLU\n",
        "import tensorflow as tf\n",
        "model= Sequential()\n",
        "\n",
        "model.add(Dense(10,input_shape=[4,], activation='relu'))\n",
        "model.add(Dense(30, activation='relu'))\n",
        "model.add(Dense(1, activation='relu'))\n",
        "mse = tf.keras.losses.MeanSquaredError()\n",
        "\n",
        "model.compile('Adam',loss=mse)\n",
        "model.optimizer.lr =0.001\n",
        "                \n",
        "model.fit(x,y,epochs=50, batch_size=10, verbose=1)"
      ],
      "execution_count": 37,
      "outputs": [
        {
          "output_type": "stream",
          "text": [
            "Epoch 1/50\n",
            "1/1 [==============================] - 0s 1ms/step - loss: 1487031.5000\n",
            "Epoch 2/50\n",
            "1/1 [==============================] - 0s 2ms/step - loss: 1139661.0000\n",
            "Epoch 3/50\n",
            "1/1 [==============================] - 0s 2ms/step - loss: 840141.1875\n",
            "Epoch 4/50\n",
            "1/1 [==============================] - 0s 2ms/step - loss: 589389.9375\n",
            "Epoch 5/50\n",
            "1/1 [==============================] - 0s 2ms/step - loss: 387619.2812\n",
            "Epoch 6/50\n",
            "1/1 [==============================] - 0s 2ms/step - loss: 234053.5000\n",
            "Epoch 7/50\n",
            "1/1 [==============================] - 0s 2ms/step - loss: 126625.8359\n",
            "Epoch 8/50\n",
            "1/1 [==============================] - 0s 2ms/step - loss: 61661.5742\n",
            "Epoch 9/50\n",
            "1/1 [==============================] - 0s 2ms/step - loss: 33646.3164\n",
            "Epoch 10/50\n",
            "1/1 [==============================] - 0s 2ms/step - loss: 35217.7383\n",
            "Epoch 11/50\n",
            "1/1 [==============================] - 0s 2ms/step - loss: 57532.7070\n",
            "Epoch 12/50\n",
            "1/1 [==============================] - 0s 2ms/step - loss: 91087.7266\n",
            "Epoch 13/50\n",
            "1/1 [==============================] - 0s 2ms/step - loss: 126885.3750\n",
            "Epoch 14/50\n",
            "1/1 [==============================] - 0s 2ms/step - loss: 157612.7344\n",
            "Epoch 15/50\n",
            "1/1 [==============================] - 0s 2ms/step - loss: 178429.1250\n",
            "Epoch 16/50\n",
            "1/1 [==============================] - 0s 2ms/step - loss: 187157.9844\n",
            "Epoch 17/50\n",
            "1/1 [==============================] - 0s 2ms/step - loss: 183949.6406\n",
            "Epoch 18/50\n",
            "1/1 [==============================] - 0s 2ms/step - loss: 170658.2031\n",
            "Epoch 19/50\n",
            "1/1 [==============================] - 0s 2ms/step - loss: 150144.5156\n",
            "Epoch 20/50\n",
            "1/1 [==============================] - 0s 3ms/step - loss: 125661.9062\n",
            "Epoch 21/50\n",
            "1/1 [==============================] - 0s 2ms/step - loss: 100367.4922\n",
            "Epoch 22/50\n",
            "1/1 [==============================] - 0s 2ms/step - loss: 76971.0391\n",
            "Epoch 23/50\n",
            "1/1 [==============================] - 0s 2ms/step - loss: 57508.6914\n",
            "Epoch 24/50\n",
            "1/1 [==============================] - 0s 2ms/step - loss: 43227.5898\n",
            "Epoch 25/50\n",
            "1/1 [==============================] - 0s 2ms/step - loss: 34570.6836\n",
            "Epoch 26/50\n",
            "1/1 [==============================] - 0s 2ms/step - loss: 31244.7715\n",
            "Epoch 27/50\n",
            "1/1 [==============================] - 0s 4ms/step - loss: 32365.0410\n",
            "Epoch 28/50\n",
            "1/1 [==============================] - 0s 3ms/step - loss: 36649.2695\n",
            "Epoch 29/50\n",
            "1/1 [==============================] - 0s 2ms/step - loss: 42639.6992\n",
            "Epoch 30/50\n",
            "1/1 [==============================] - 0s 2ms/step - loss: 48918.6289\n",
            "Epoch 31/50\n",
            "1/1 [==============================] - 0s 2ms/step - loss: 54291.0469\n",
            "Epoch 32/50\n",
            "1/1 [==============================] - 0s 2ms/step - loss: 57910.4336\n",
            "Epoch 33/50\n",
            "1/1 [==============================] - 0s 3ms/step - loss: 59337.4414\n",
            "Epoch 34/50\n",
            "1/1 [==============================] - 0s 2ms/step - loss: 58533.3477\n",
            "Epoch 35/50\n",
            "1/1 [==============================] - 0s 2ms/step - loss: 55798.5273\n",
            "Epoch 36/50\n",
            "1/1 [==============================] - 0s 2ms/step - loss: 51674.1562\n",
            "Epoch 37/50\n",
            "1/1 [==============================] - 0s 2ms/step - loss: 46828.7461\n",
            "Epoch 38/50\n",
            "1/1 [==============================] - 0s 2ms/step - loss: 41941.3008\n",
            "Epoch 39/50\n",
            "1/1 [==============================] - 0s 2ms/step - loss: 37603.3320\n",
            "Epoch 40/50\n",
            "1/1 [==============================] - 0s 2ms/step - loss: 34245.4727\n",
            "Epoch 41/50\n",
            "1/1 [==============================] - 0s 2ms/step - loss: 32097.6348\n",
            "Epoch 42/50\n",
            "1/1 [==============================] - 0s 2ms/step - loss: 31182.1973\n",
            "Epoch 43/50\n",
            "1/1 [==============================] - 0s 2ms/step - loss: 31339.3184\n",
            "Epoch 44/50\n",
            "1/1 [==============================] - 0s 2ms/step - loss: 32276.9395\n",
            "Epoch 45/50\n",
            "1/1 [==============================] - 0s 2ms/step - loss: 33633.7695\n",
            "Epoch 46/50\n",
            "1/1 [==============================] - 0s 2ms/step - loss: 35046.4883\n",
            "Epoch 47/50\n",
            "1/1 [==============================] - 0s 3ms/step - loss: 36207.4180\n",
            "Epoch 48/50\n",
            "1/1 [==============================] - 0s 1ms/step - loss: 36906.2031\n",
            "Epoch 49/50\n",
            "1/1 [==============================] - 0s 2ms/step - loss: 37048.3906\n",
            "Epoch 50/50\n",
            "1/1 [==============================] - 0s 2ms/step - loss: 36653.8164\n"
          ],
          "name": "stdout"
        },
        {
          "output_type": "execute_result",
          "data": {
            "text/plain": [
              "<tensorflow.python.keras.callbacks.History at 0x7ff28871c4e0>"
            ]
          },
          "metadata": {
            "tags": []
          },
          "execution_count": 37
        }
      ]
    },
    {
      "cell_type": "code",
      "metadata": {
        "id": "oPr_utGmf98n",
        "colab_type": "code",
        "colab": {
          "base_uri": "https://localhost:8080/",
          "height": 71
        },
        "outputId": "447fd8f0-4468-42b6-a764-f06fa9eac4d2"
      },
      "source": [
        "mk= model.predict(x_test)\n",
        "mk"
      ],
      "execution_count": 38,
      "outputs": [
        {
          "output_type": "stream",
          "text": [
            "WARNING:tensorflow:7 out of the last 7 calls to <function Model.make_predict_function.<locals>.predict_function at 0x7ff28872a0d0> triggered tf.function retracing. Tracing is expensive and the excessive number of tracings could be due to (1) creating @tf.function repeatedly in a loop, (2) passing tensors with different shapes, (3) passing Python objects instead of tensors. For (1), please define your @tf.function outside of the loop. For (2), @tf.function has experimental_relax_shapes=True option that relaxes argument shapes that can avoid unnecessary retracing. For (3), please refer to https://www.tensorflow.org/tutorials/customization/performance#python_or_tensor_args and https://www.tensorflow.org/api_docs/python/tf/function for  more details.\n"
          ],
          "name": "stdout"
        },
        {
          "output_type": "execute_result",
          "data": {
            "text/plain": [
              "array([[353.72513]], dtype=float32)"
            ]
          },
          "metadata": {
            "tags": []
          },
          "execution_count": 38
        }
      ]
    },
    {
      "cell_type": "code",
      "metadata": {
        "id": "fTfsR2NRbR1Q",
        "colab_type": "code",
        "colab": {
          "base_uri": "https://localhost:8080/",
          "height": 34
        },
        "outputId": "616ab577-0eff-4f8d-f2a1-37846dda4429"
      },
      "source": [
        "mk"
      ],
      "execution_count": null,
      "outputs": [
        {
          "output_type": "execute_result",
          "data": {
            "text/plain": [
              "array([[   0.  , 7684.55,    0.  ]], dtype=float32)"
            ]
          },
          "metadata": {
            "tags": []
          },
          "execution_count": 59
        }
      ]
    }
  ]
}